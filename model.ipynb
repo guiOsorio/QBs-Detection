{
 "cells": [
  {
   "cell_type": "code",
   "execution_count": 29,
   "id": "45decb9c",
   "metadata": {},
   "outputs": [],
   "source": [
    "import pandas as pd\n",
    "from PIL import Image\n",
    "import glob\n",
    "import torch\n",
    "import torchvision.transforms as transforms"
   ]
  },
  {
   "cell_type": "code",
   "execution_count": 27,
   "id": "ee46b6f5",
   "metadata": {},
   "outputs": [
    {
     "data": {
      "text/plain": [
       "108"
      ]
     },
     "execution_count": 27,
     "metadata": {},
     "output_type": "execute_result"
    }
   ],
   "source": [
    "# Load all training images and transform them to tensors of rank 3 (RGB image)\n",
    "transform = transforms.Compose([\n",
    "    transforms.PILToTensor()\n",
    "])\n",
    "train = {}\n",
    "\n",
    "for filename in glob.glob('train/*'):\n",
    "    jpg_name = filename.split('/')[1]\n",
    "    img = Image.open(filename)\n",
    "    img_tensor = transform(img)\n",
    "    train[jpg_name] = img_tensor\n",
    "    \n",
    "len(train)\n",
    "# train is a dictionary which contains all of the training images' data as rank-3 tensors\n",
    "# the keys correspond to the .jpg file name (to match the labels .csv file), and the respective values are the \n",
    "    # image represented as tensors"
   ]
  },
  {
   "cell_type": "code",
   "execution_count": 37,
   "id": "690b02b8",
   "metadata": {},
   "outputs": [
    {
     "data": {
      "text/html": [
       "<div>\n",
       "<style scoped>\n",
       "    .dataframe tbody tr th:only-of-type {\n",
       "        vertical-align: middle;\n",
       "    }\n",
       "\n",
       "    .dataframe tbody tr th {\n",
       "        vertical-align: top;\n",
       "    }\n",
       "\n",
       "    .dataframe thead th {\n",
       "        text-align: right;\n",
       "    }\n",
       "</style>\n",
       "<table border=\"1\" class=\"dataframe\">\n",
       "  <thead>\n",
       "    <tr style=\"text-align: right;\">\n",
       "      <th></th>\n",
       "      <th>label_name</th>\n",
       "      <th>bbox_x</th>\n",
       "      <th>bbox_y</th>\n",
       "      <th>bbox_width</th>\n",
       "      <th>bbox_height</th>\n",
       "      <th>image_name</th>\n",
       "    </tr>\n",
       "  </thead>\n",
       "  <tbody>\n",
       "    <tr>\n",
       "      <th>0</th>\n",
       "      <td>Tom Brady</td>\n",
       "      <td>1</td>\n",
       "      <td>4</td>\n",
       "      <td>129</td>\n",
       "      <td>221</td>\n",
       "      <td>0.jpg</td>\n",
       "    </tr>\n",
       "    <tr>\n",
       "      <th>1</th>\n",
       "      <td>Other</td>\n",
       "      <td>136</td>\n",
       "      <td>26</td>\n",
       "      <td>133</td>\n",
       "      <td>222</td>\n",
       "      <td>0.jpg</td>\n",
       "    </tr>\n",
       "    <tr>\n",
       "      <th>2</th>\n",
       "      <td>Tom Brady</td>\n",
       "      <td>254</td>\n",
       "      <td>120</td>\n",
       "      <td>123</td>\n",
       "      <td>74</td>\n",
       "      <td>1.jpg</td>\n",
       "    </tr>\n",
       "    <tr>\n",
       "      <th>3</th>\n",
       "      <td>Tom Brady</td>\n",
       "      <td>172</td>\n",
       "      <td>73</td>\n",
       "      <td>96</td>\n",
       "      <td>68</td>\n",
       "      <td>10.jpg</td>\n",
       "    </tr>\n",
       "    <tr>\n",
       "      <th>4</th>\n",
       "      <td>Other</td>\n",
       "      <td>329</td>\n",
       "      <td>100</td>\n",
       "      <td>92</td>\n",
       "      <td>62</td>\n",
       "      <td>10.jpg</td>\n",
       "    </tr>\n",
       "  </tbody>\n",
       "</table>\n",
       "</div>"
      ],
      "text/plain": [
       "  label_name  bbox_x  bbox_y  bbox_width  bbox_height image_name\n",
       "0  Tom Brady       1       4         129          221      0.jpg\n",
       "1      Other     136      26         133          222      0.jpg\n",
       "2  Tom Brady     254     120         123           74      1.jpg\n",
       "3  Tom Brady     172      73          96           68     10.jpg\n",
       "4      Other     329     100          92           62     10.jpg"
      ]
     },
     "execution_count": 37,
     "metadata": {},
     "output_type": "execute_result"
    }
   ],
   "source": [
    "# Get labels from .csv file and create list of tuples (image_tensor, labels)\n",
    "labels_data = pd.read_csv(\"train_labels.csv\")\n",
    "labels_data = labels_data.drop(columns=['image_width', 'image_height'])\n",
    "labels_data.head()"
   ]
  },
  {
   "cell_type": "code",
   "execution_count": null,
   "id": "1297593c",
   "metadata": {},
   "outputs": [],
   "source": []
  },
  {
   "cell_type": "code",
   "execution_count": null,
   "id": "4a261b4f",
   "metadata": {},
   "outputs": [],
   "source": []
  }
 ],
 "metadata": {
  "kernelspec": {
   "display_name": "Python 3 (ipykernel)",
   "language": "python",
   "name": "python3"
  },
  "language_info": {
   "codemirror_mode": {
    "name": "ipython",
    "version": 3
   },
   "file_extension": ".py",
   "mimetype": "text/x-python",
   "name": "python",
   "nbconvert_exporter": "python",
   "pygments_lexer": "ipython3",
   "version": "3.9.12"
  }
 },
 "nbformat": 4,
 "nbformat_minor": 5
}

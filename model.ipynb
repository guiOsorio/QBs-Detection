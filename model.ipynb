{
 "cells": [
  {
   "cell_type": "code",
   "execution_count": 10,
   "id": "83793be1",
   "metadata": {},
   "outputs": [],
   "source": [
    "from PIL import Image\n",
    "import glob\n",
    "import torch\n",
    "import torchvision.transforms as transforms"
   ]
  },
  {
   "cell_type": "code",
   "execution_count": 27,
   "id": "37acad05",
   "metadata": {},
   "outputs": [
    {
     "data": {
      "text/plain": [
       "108"
      ]
     },
     "execution_count": 27,
     "metadata": {},
     "output_type": "execute_result"
    }
   ],
   "source": [
    "# Load all training images and transform them to tensors of rank 3 (RGB image)\n",
    "transform = transforms.Compose([\n",
    "    transforms.PILToTensor()\n",
    "])\n",
    "train = {}\n",
    "\n",
    "for filename in glob.glob('train/*'):\n",
    "    jpg_name = filename.split('/')[1]\n",
    "    img = Image.open(filename)\n",
    "    img_tensor = transform(img)\n",
    "    train[jpg_name] = img_tensor\n",
    "    \n",
    "len(train)\n",
    "# train is a dictionary which contains all of the training images' data as rank-3 tensors\n",
    "# the keys correspond to the .jpg file name (to match the labels .csv file), and the respective values are the \n",
    "    # image represented as tensors"
   ]
  },
  {
   "cell_type": "code",
   "execution_count": 28,
   "id": "314f1c5f",
   "metadata": {},
   "outputs": [],
   "source": [
    "# Get labels from .csv file and create list of tuples (image_tensor, labels)"
   ]
  },
  {
   "cell_type": "code",
   "execution_count": null,
   "id": "1fcce53a",
   "metadata": {},
   "outputs": [],
   "source": []
  }
 ],
 "metadata": {
  "kernelspec": {
   "display_name": "Python 3 (ipykernel)",
   "language": "python",
   "name": "python3"
  },
  "language_info": {
   "codemirror_mode": {
    "name": "ipython",
    "version": 3
   },
   "file_extension": ".py",
   "mimetype": "text/x-python",
   "name": "python",
   "nbconvert_exporter": "python",
   "pygments_lexer": "ipython3",
   "version": "3.9.12"
  }
 },
 "nbformat": 4,
 "nbformat_minor": 5
}

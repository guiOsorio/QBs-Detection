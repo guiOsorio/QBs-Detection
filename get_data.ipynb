{
 "cells": [
  {
   "cell_type": "code",
   "execution_count": null,
   "id": "efa1a76f",
   "metadata": {},
   "outputs": [],
   "source": [
    "import requests\n",
    "import time\n",
    "import os\n",
    "import matplotlib.pyplot as plt\n",
    "from PIL import Image\n",
    "from io import BytesIO"
   ]
  },
  {
   "cell_type": "code",
   "execution_count": null,
   "id": "ad4141b6",
   "metadata": {},
   "outputs": [],
   "source": [
    "# !pip install duckduckgo-images-api\n",
    "from duckduckgo_images_api import search"
   ]
  },
  {
   "cell_type": "code",
   "execution_count": null,
   "id": "e235914b",
   "metadata": {
    "scrolled": true
   },
   "outputs": [],
   "source": [
    "results_jg = search(\"jared goff\")\n",
    "\n",
    "img_urls_jg = [r['image'] for r in results_jg['results']]"
   ]
  },
  {
   "cell_type": "code",
   "execution_count": null,
   "id": "fe2d2356",
   "metadata": {
    "scrolled": true
   },
   "outputs": [],
   "source": [
    "f, axes = plt.subplots(2, 2, figsize=(15, 15))\n",
    "for i in range(2):\n",
    "    for j in range(2):\n",
    "        img_data = requests.get(img_urls_jg[:4][i+2*j])\n",
    "        img_data.raise_for_status()\n",
    "        img = Image.open(BytesIO(img_data.content))        \n",
    "        axes[i][j].imshow(img)\n",
    "        axes[i][j].axis(\"off\")\n",
    "plt.show()"
   ]
  },
  {
   "cell_type": "code",
   "execution_count": null,
   "id": "a6703a69",
   "metadata": {},
   "outputs": [],
   "source": [
    "dir_path = \"./train/jared-goff/\"\n",
    "\n",
    "if not os.path.exists(dir_path):\n",
    "    os.makedirs(dir_path)\n",
    "\n",
    "imgs_added = set()\n",
    "i = 0\n",
    "for url in img_urls_jg:\n",
    "    split = url.split(\"/\")\n",
    "\n",
    "    last_item = split[-1]\n",
    "\n",
    "    second_split = last_item.split(\"?\")\n",
    "\n",
    "    if len(second_split) > 1:\n",
    "        last_item = second_split[0]\n",
    "\n",
    "    third_split = last_item.split(\"!\")\n",
    "\n",
    "    if len(third_split) > 1:\n",
    "        last_item = third_split[0]\n",
    "    \n",
    "    path = os.path.join(dir_path, f'{i}.jpg')\n",
    "    if last_item not in imgs_added:\n",
    "        try:\n",
    "            with open(path, \"wb\") as f:\n",
    "                img_data = requests.get(url)\n",
    "                #image_data.raise_for_status()\n",
    "\n",
    "                f.write(img_data.content)\n",
    "                i += 1\n",
    "        except OSError:\n",
    "            pass\n",
    "    imgs_added.add(last_item)\n",
    "    if i == 60:\n",
    "        dir_path = \"./test/jared-goff/\"\n",
    "        i = 0\n",
    "    if not os.path.exists(dir_path):\n",
    "        os.makedirs(dir_path)"
   ]
  },
  {
   "cell_type": "code",
   "execution_count": null,
   "id": "bc45b285",
   "metadata": {},
   "outputs": [],
   "source": [
    "results_ar = search(\"aaron rodgers\")\n",
    "\n",
    "img_urls_ar = [r['image'] for r in results_ar['results']]\n",
    "len(img_urls_ar)"
   ]
  },
  {
   "cell_type": "code",
   "execution_count": null,
   "id": "91799a54",
   "metadata": {},
   "outputs": [],
   "source": [
    "f, axes = plt.subplots(2, 2, figsize=(15, 15))\n",
    "for i in range(2):\n",
    "    for j in range(2):\n",
    "        img_data = requests.get(img_urls_ar[:4][i+2*j])\n",
    "        img_data.raise_for_status()\n",
    "        img = Image.open(BytesIO(img_data.content))        \n",
    "        axes[i][j].imshow(img)\n",
    "        axes[i][j].axis(\"off\")\n",
    "plt.show()"
   ]
  },
  {
   "cell_type": "code",
   "execution_count": null,
   "id": "d089cb48",
   "metadata": {},
   "outputs": [],
   "source": [
    "dir_path = \"./train/aaron-rodgers/\"\n",
    "\n",
    "if not os.path.exists(dir_path):\n",
    "    os.makedirs(dir_path)\n",
    "\n",
    "imgs_added = set()\n",
    "i = 0\n",
    "for url in img_urls_ar:\n",
    "    split = url.split(\"/\")\n",
    "\n",
    "    last_item = split[-1]\n",
    "\n",
    "    second_split = last_item.split(\"?\")\n",
    "\n",
    "    if len(second_split) > 1:\n",
    "        last_item = second_split[0]\n",
    "\n",
    "    third_split = last_item.split(\"!\")\n",
    "\n",
    "    if len(third_split) > 1:\n",
    "        last_item = third_split[0]\n",
    "    \n",
    "    path = os.path.join(dir_path, f'{i}.jpg')\n",
    "    if last_item not in imgs_added:\n",
    "        try:\n",
    "            with open(path, \"wb\") as f:\n",
    "                img_data = requests.get(url)\n",
    "                #image_data.raise_for_status()\n",
    "\n",
    "                f.write(img_data.content)\n",
    "                i += 1\n",
    "        except OSError:\n",
    "            pass\n",
    "    imgs_added.add(last_item)\n",
    "    if i == 60:\n",
    "        dir_path = \"./test/aaron-rodgers/\"\n",
    "        i = 0\n",
    "    if not os.path.exists(dir_path):\n",
    "        os.makedirs(dir_path)"
   ]
  },
  {
   "cell_type": "code",
   "execution_count": null,
   "id": "1df20e98",
   "metadata": {},
   "outputs": [],
   "source": []
  }
 ],
 "metadata": {
  "kernelspec": {
   "display_name": "Python 3 (ipykernel)",
   "language": "python",
   "name": "python3"
  },
  "language_info": {
   "codemirror_mode": {
    "name": "ipython",
    "version": 3
   },
   "file_extension": ".py",
   "mimetype": "text/x-python",
   "name": "python",
   "nbconvert_exporter": "python",
   "pygments_lexer": "ipython3",
   "version": "3.9.12"
  }
 },
 "nbformat": 4,
 "nbformat_minor": 5
}

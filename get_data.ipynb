{
 "cells": [
  {
   "cell_type": "code",
   "execution_count": 1,
   "id": "efa1a76f",
   "metadata": {},
   "outputs": [],
   "source": [
    "import requests\n",
    "import time\n",
    "import os\n",
    "import matplotlib.pyplot as plt\n",
    "from PIL import Image\n",
    "from io import BytesIO"
   ]
  },
  {
   "cell_type": "code",
   "execution_count": 2,
   "id": "ad4141b6",
   "metadata": {},
   "outputs": [],
   "source": [
    "# !pip install duckduckgo-images-api\n",
    "from duckduckgo_images_api import search"
   ]
  },
  {
   "cell_type": "code",
   "execution_count": null,
   "id": "fe2d2356",
   "metadata": {
    "scrolled": true
   },
   "outputs": [],
   "source": [
    "# Test if images make sense\n",
    "results = search(\"search\")\n",
    "\n",
    "img_urls = [r['image'] for r in results['results']]\n",
    "\n",
    "f, axes = plt.subplots(2, 2, figsize=(15, 15))\n",
    "for i in range(2):\n",
    "    for j in range(2):\n",
    "        img_data = requests.get(img_urls[:4][i+2*j])\n",
    "        img_data.raise_for_status()\n",
    "        img = Image.open(BytesIO(img_data.content))        \n",
    "        axes[i][j].imshow(img)\n",
    "        axes[i][j].axis(\"off\")\n",
    "plt.show()"
   ]
  },
  {
   "cell_type": "code",
   "execution_count": 19,
   "id": "4f7e6993",
   "metadata": {},
   "outputs": [],
   "source": [
    "def export_imgs(search_terms, n_train_imgs, size):\n",
    "    \n",
    "    imgs_added = set() # keep this to minimize duplicates\n",
    "    train_i = 0 # keep count to control images that get added to train and test sets\n",
    "    test_i = 0\n",
    "    \n",
    "    for st in range(len(search_terms)):\n",
    "\n",
    "        # Get image URLs for search_term (default is 100 images)\n",
    "        results = search(search_terms[st])\n",
    "        img_urls = [r['image'] for r in results['results']]\n",
    "\n",
    "\n",
    "        # Clean up image urls and add to respective folder \n",
    "        for url in img_urls:\n",
    "            \n",
    "            # After n_train_imgs images have been added to training set, add the remaining images to the test set\n",
    "            if train_i >= n_train_imgs*(st+1):\n",
    "                is_train = False\n",
    "            else:\n",
    "                is_train = True\n",
    "                \n",
    "            if is_train:\n",
    "                # Create path to store images\n",
    "                dir_path = f\"./train/\"\n",
    "                if not os.path.exists(dir_path):\n",
    "                    os.makedirs(dir_path)\n",
    "            else:\n",
    "                dir_path = f\"./test/\"\n",
    "                if not os.path.exists(dir_path):\n",
    "                    os.makedirs(dir_path)\n",
    "\n",
    "            ## this will check if there is a '?' or '!' after the '.jpg' and get rid of them\n",
    "            split = url.split(\"/\")\n",
    "\n",
    "            last_item = split[-1]\n",
    "\n",
    "            second_split = last_item.split(\"?\")\n",
    "\n",
    "            if len(second_split) > 1:\n",
    "                last_item = second_split[0]\n",
    "\n",
    "            third_split = last_item.split(\"!\")\n",
    "\n",
    "            if len(third_split) > 1:\n",
    "                last_item = third_split[0]      \n",
    "            ##\n",
    "\n",
    "            # Save images with resize\n",
    "            if is_train:\n",
    "                path = os.path.join(dir_path, f'{train_i}.jpg')\n",
    "            else:\n",
    "                path = os.path.join(dir_path, f'{test_i}.jpg')\n",
    "            if last_item not in imgs_added:\n",
    "                try:\n",
    "                    img_data = requests.get(url)\n",
    "                    #image_data.raise_for_status()\n",
    "                    img = Image.open(BytesIO(img_data.content))\n",
    "                    img_resized = img.resize(size)\n",
    "                    img_resized.save(path)\n",
    "                    if is_train:\n",
    "                        train_i += 1 \n",
    "                    else:\n",
    "                        test_i += 1 # keep track of images added\n",
    "                except OSError:\n",
    "                    pass\n",
    "            imgs_added.add(last_item)\n",
    "            \n",
    "            \n",
    "            # Save images without resize\n",
    "#             path = os.path.join(dir_path, f'{i}.jpg')\n",
    "#             if last_item not in imgs_added:\n",
    "#                 try:\n",
    "#                     with open(path, \"wb\") as f:\n",
    "#                         img_data = requests.get(url)\n",
    "#                         #image_data.raise_for_status()\n",
    "\n",
    "#                         f.write(img_data.content)\n",
    "#                         i += 1 # keep track of images added\n",
    "#                 except OSError:\n",
    "#                     pass\n",
    "#             imgs_added.add(last_item)"
   ]
  },
  {
   "cell_type": "code",
   "execution_count": null,
   "id": "5eabcde9",
   "metadata": {},
   "outputs": [],
   "source": [
    "qbs_terms = ['tom brady', 'patrick mahomes']\n",
    "n_train = 60\n",
    "resize_size = (600, 400)\n",
    "\n",
    "export_imgs(qbs_terms, n_train, resize_size)"
   ]
  },
  {
   "cell_type": "code",
   "execution_count": null,
   "id": "a6d4e1b7",
   "metadata": {},
   "outputs": [],
   "source": [
    "# Using makesense.ai labelling tool:\n",
    "    # clean images - delete duplicates, label all faces and label 'other' if not a qb + draw bounding boxes\n",
    "# create dataset with all labels (qb + bounding box info)"
   ]
  },
  {
   "cell_type": "code",
   "execution_count": null,
   "id": "28195b98",
   "metadata": {},
   "outputs": [],
   "source": []
  }
 ],
 "metadata": {
  "kernelspec": {
   "display_name": "Python 3 (ipykernel)",
   "language": "python",
   "name": "python3"
  },
  "language_info": {
   "codemirror_mode": {
    "name": "ipython",
    "version": 3
   },
   "file_extension": ".py",
   "mimetype": "text/x-python",
   "name": "python",
   "nbconvert_exporter": "python",
   "pygments_lexer": "ipython3",
   "version": "3.9.12"
  }
 },
 "nbformat": 4,
 "nbformat_minor": 5
}

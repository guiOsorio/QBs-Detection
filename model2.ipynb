{
 "cells": [
  {
   "cell_type": "markdown",
   "id": "12ab59d4",
   "metadata": {},
   "source": [
    "# Model 2 --> multiple object detection of Mahomes, Brady"
   ]
  },
  {
   "cell_type": "markdown",
   "id": "a8d41245",
   "metadata": {},
   "source": [
    "- watch more videos for ideas"
   ]
  }
 ],
 "metadata": {
  "kernelspec": {
   "display_name": "Python 3 (ipykernel)",
   "language": "python",
   "name": "python3"
  },
  "language_info": {
   "codemirror_mode": {
    "name": "ipython",
    "version": 3
   },
   "file_extension": ".py",
   "mimetype": "text/x-python",
   "name": "python",
   "nbconvert_exporter": "python",
   "pygments_lexer": "ipython3",
   "version": "3.9.12"
  }
 },
 "nbformat": 4,
 "nbformat_minor": 5
}

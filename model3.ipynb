{
 "cells": [
  {
   "cell_type": "markdown",
   "id": "e0e20bbe",
   "metadata": {},
   "source": [
    "# Model 3 --> multiple object detection of all QBs"
   ]
  },
  {
   "cell_type": "code",
   "execution_count": null,
   "id": "d9744b03",
   "metadata": {},
   "outputs": [],
   "source": []
  }
 ],
 "metadata": {
  "kernelspec": {
   "display_name": "Python 3 (ipykernel)",
   "language": "python",
   "name": "python3"
  },
  "language_info": {
   "codemirror_mode": {
    "name": "ipython",
    "version": 3
   },
   "file_extension": ".py",
   "mimetype": "text/x-python",
   "name": "python",
   "nbconvert_exporter": "python",
   "pygments_lexer": "ipython3",
   "version": "3.9.12"
  }
 },
 "nbformat": 4,
 "nbformat_minor": 5
}

{
 "cells": [
  {
   "cell_type": "markdown",
   "id": "2c19b539",
   "metadata": {},
   "source": [
    "# Model 1 - single object detection of Mahomes, Brady"
   ]
  },
  {
   "cell_type": "code",
   "execution_count": 42,
   "id": "59f96009",
   "metadata": {},
   "outputs": [],
   "source": [
    "import pandas as pd\n",
    "import numpy as np\n",
    "from PIL import Image\n",
    "import glob\n",
    "import torch\n",
    "import torchvision.transforms as transforms"
   ]
  },
  {
   "cell_type": "code",
   "execution_count": 39,
   "id": "515d693b",
   "metadata": {},
   "outputs": [
    {
     "data": {
      "text/plain": [
       "118"
      ]
     },
     "execution_count": 39,
     "metadata": {},
     "output_type": "execute_result"
    }
   ],
   "source": [
    "# Load all training images and transform them to tensors of rank 3 (RGB image)\n",
    "transform = transforms.Compose([\n",
    "    transforms.PILToTensor()\n",
    "])\n",
    "train = {}\n",
    "\n",
    "for filename in glob.glob('train/*'):\n",
    "    jpg_name = filename.split('/')[1]\n",
    "    img = Image.open(filename)\n",
    "    img_tensor = transform(img)\n",
    "    train[jpg_name] = img_tensor\n",
    "    \n",
    "len(train)\n",
    "# train is a dictionary which contains all of the training images' data as rank-3 tensors\n",
    "# the keys correspond to the .jpg file name (to match the labels .csv file), and the respective values are the \n",
    "    # image represented as tensors"
   ]
  },
  {
   "cell_type": "code",
   "execution_count": 43,
   "id": "4f5c080c",
   "metadata": {},
   "outputs": [
    {
     "data": {
      "text/html": [
       "<div>\n",
       "<style scoped>\n",
       "    .dataframe tbody tr th:only-of-type {\n",
       "        vertical-align: middle;\n",
       "    }\n",
       "\n",
       "    .dataframe tbody tr th {\n",
       "        vertical-align: top;\n",
       "    }\n",
       "\n",
       "    .dataframe thead th {\n",
       "        text-align: right;\n",
       "    }\n",
       "</style>\n",
       "<table border=\"1\" class=\"dataframe\">\n",
       "  <thead>\n",
       "    <tr style=\"text-align: right;\">\n",
       "      <th></th>\n",
       "      <th>label_name</th>\n",
       "      <th>bbox_x</th>\n",
       "      <th>bbox_y</th>\n",
       "      <th>bbox_width</th>\n",
       "      <th>bbox_height</th>\n",
       "      <th>image_name</th>\n",
       "    </tr>\n",
       "  </thead>\n",
       "  <tbody>\n",
       "    <tr>\n",
       "      <th>0</th>\n",
       "      <td>1</td>\n",
       "      <td>247</td>\n",
       "      <td>19</td>\n",
       "      <td>137</td>\n",
       "      <td>277</td>\n",
       "      <td>0.jpg</td>\n",
       "    </tr>\n",
       "    <tr>\n",
       "      <th>1</th>\n",
       "      <td>1</td>\n",
       "      <td>122</td>\n",
       "      <td>16</td>\n",
       "      <td>124</td>\n",
       "      <td>199</td>\n",
       "      <td>1.jpg</td>\n",
       "    </tr>\n",
       "    <tr>\n",
       "      <th>2</th>\n",
       "      <td>1</td>\n",
       "      <td>325</td>\n",
       "      <td>2</td>\n",
       "      <td>230</td>\n",
       "      <td>250</td>\n",
       "      <td>10.jpg</td>\n",
       "    </tr>\n",
       "    <tr>\n",
       "      <th>3</th>\n",
       "      <td>0</td>\n",
       "      <td>269</td>\n",
       "      <td>2</td>\n",
       "      <td>151</td>\n",
       "      <td>139</td>\n",
       "      <td>100.jpg</td>\n",
       "    </tr>\n",
       "    <tr>\n",
       "      <th>4</th>\n",
       "      <td>0</td>\n",
       "      <td>444</td>\n",
       "      <td>24</td>\n",
       "      <td>134</td>\n",
       "      <td>255</td>\n",
       "      <td>101.jpg</td>\n",
       "    </tr>\n",
       "  </tbody>\n",
       "</table>\n",
       "</div>"
      ],
      "text/plain": [
       "   label_name  bbox_x  bbox_y  bbox_width  bbox_height image_name\n",
       "0           1     247      19         137          277      0.jpg\n",
       "1           1     122      16         124          199      1.jpg\n",
       "2           1     325       2         230          250     10.jpg\n",
       "3           0     269       2         151          139    100.jpg\n",
       "4           0     444      24         134          255    101.jpg"
      ]
     },
     "execution_count": 43,
     "metadata": {},
     "output_type": "execute_result"
    }
   ],
   "source": [
    "# Get labels from .csv file and create list of tuples (image_tensor, labels)\n",
    "labels_data = pd.read_csv(\"train1_labels.csv\")\n",
    "labels_data = labels_data.drop(columns=['image_width', 'image_height'])\n",
    "labels_data['label_name'] = np.where(labels_data['label_name'] == 'Brady', 1, 0)\n",
    "labels_data.head()"
   ]
  },
  {
   "cell_type": "markdown",
   "id": "fc3cb8fc",
   "metadata": {},
   "source": [
    "- use transfer learning on a pre-trained CNN network\n",
    "- attach a fully connected layer for classification (Brady or Mahomes)\n",
    "- attach a fully connected layer for regression (x, y, width, height)\n",
    "- train on training set\n",
    "- predict on test set"
   ]
  },
  {
   "cell_type": "markdown",
   "id": "09085a9b",
   "metadata": {},
   "source": []
  },
  {
   "cell_type": "markdown",
   "id": "85f9a178",
   "metadata": {},
   "source": []
  }
 ],
 "metadata": {
  "kernelspec": {
   "display_name": "Python 3 (ipykernel)",
   "language": "python",
   "name": "python3"
  },
  "language_info": {
   "codemirror_mode": {
    "name": "ipython",
    "version": 3
   },
   "file_extension": ".py",
   "mimetype": "text/x-python",
   "name": "python",
   "nbconvert_exporter": "python",
   "pygments_lexer": "ipython3",
   "version": "3.9.12"
  }
 },
 "nbformat": 4,
 "nbformat_minor": 5
}
